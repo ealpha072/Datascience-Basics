{
 "cells": [
  {
   "cell_type": "code",
   "execution_count": 78,
   "id": "tracked-aspect",
   "metadata": {},
   "outputs": [],
   "source": [
    "import numpy as np\n",
    "import pandas as pd\n",
    "import math\n",
    "import matplotlib.pyplot as plt"
   ]
  },
  {
   "cell_type": "markdown",
   "id": "bound-comedy",
   "metadata": {},
   "source": [
    "## Iterating over Arrays in numpy\n",
    "\n",
    "Use the numpy.nditer() object to iterate, the array to be iterated is passed to the object.Default order is from left to right(row wise, order='C'). To control the order, pass in order as a parameter. Oder F is column while order F is row.Flags are used with different values;"
   ]
  },
  {
   "cell_type": "code",
   "execution_count": 35,
   "id": "abroad-fiber",
   "metadata": {},
   "outputs": [
    {
     "name": "stdout",
     "output_type": "stream",
     "text": [
      "0\n",
      "1\n",
      "2\n",
      "3\n",
      "4\n",
      "5\n",
      "6\n",
      "7\n",
      "8\n",
      "9\n",
      "10\n",
      "11\n",
      "12\n",
      "13\n",
      "14\n",
      "15\n",
      "0\n",
      "4\n",
      "8\n",
      "12\n",
      "1\n",
      "5\n",
      "9\n",
      "13\n",
      "2\n",
      "6\n",
      "10\n",
      "14\n",
      "3\n",
      "7\n",
      "11\n",
      "15\n"
     ]
    }
   ],
   "source": [
    "a = np.arange(16)\n",
    "a = a.reshape(4,4)\n",
    "\n",
    "for x in np.nditer(a):\n",
    "    print(x)\n",
    "    \n",
    "for x in np.nditer(a, order='F'):\n",
    "    print(x)"
   ]
  },
  {
   "cell_type": "code",
   "execution_count": 40,
   "id": "posted-nicholas",
   "metadata": {},
   "outputs": [
    {
     "name": "stdout",
     "output_type": "stream",
     "text": [
      "[ 0  1  2  3  4  5  6  7  8  9 10 11]\n",
      "0 <0> 1 <4> 2 <8> 3 <1> 4 <5> 5 <9> 6 <2> 7 <6> 8 <10> 9 <3> 10 <7> 11 <11> "
     ]
    }
   ],
   "source": [
    "#flags example\n",
    "b = np.arange(12)\n",
    "b = b.reshape(4,3)\n",
    "\n",
    "for x in np.nditer(b,flags = ['external_loop'],order='C'):\n",
    "    print(x)\n",
    "\n",
    "it = np.nditer(b, flags  = ['f_index'])\n",
    "while not it.finished:\n",
    "    print(\"%d <%d>\" % (it[0], it.index), end=\" \")\n",
    "    it.iternext()"
   ]
  },
  {
   "cell_type": "code",
   "execution_count": 51,
   "id": "reserved-emission",
   "metadata": {},
   "outputs": [
    {
     "name": "stdout",
     "output_type": "stream",
     "text": [
      "[[ 0  1  2  3]\n",
      " [ 4  5  6  7]\n",
      " [ 8  9 10 11]]\n",
      "[[0 1 2 3]]\n",
      "0:0\n",
      "1:1\n",
      "2:2\n",
      "3:3\n",
      "4:0\n",
      "5:1\n",
      "6:2\n",
      "7:3\n",
      "8:0\n",
      "9:1\n",
      "10:2\n",
      "11:3\n"
     ]
    }
   ],
   "source": [
    "#Broadcasting iterations\n",
    "c = np.arange(12).reshape(3,4)\n",
    "d = np.arange(4).reshape(1,4)\n",
    "print(c)\n",
    "print(d)\n",
    "for x,y in np.nditer([c,d]):\n",
    "    print(\"%d:%d\" % (x,y))"
   ]
  },
  {
   "cell_type": "markdown",
   "id": "hazardous-camcorder",
   "metadata": {},
   "source": [
    "## Mathematical functions in numpy\n",
    "Trigonometric functions are np.sin(),np.cos(),np.tan()\n",
    "Functions for rounding elements np.round(array,decimals=num),np.ceil(),np.floor()"
   ]
  },
  {
   "cell_type": "code",
   "execution_count": 60,
   "id": "friendly-cowboy",
   "metadata": {},
   "outputs": [
    {
     "data": {
      "text/plain": [
       "array([0., 2., 2., 4.])"
      ]
     },
     "execution_count": 60,
     "metadata": {},
     "output_type": "execute_result"
    }
   ],
   "source": [
    "inArray = np.array([0,math.pi/3,np.pi/2,np.pi])\n",
    "sinArray = np.sin(inArray)\n",
    "cosArray = np.cos(inArray)\n",
    "tanArray = np.tan(inArray)\n",
    "tanArray\n",
    "\n",
    "roundArray = np.round(inArray, decimals = 3)\n",
    "floorArray = np.floor(inArray)\n",
    "ceilArray = np.ceil(inArray)\n",
    "ceilArray"
   ]
  },
  {
   "cell_type": "markdown",
   "id": "nervous-pound",
   "metadata": {},
   "source": [
    "## Numpy linear algebra\n",
    "Rank matrix, solve linear eqtns,determinants, inverse,least squares"
   ]
  },
  {
   "cell_type": "code",
   "execution_count": 71,
   "id": "capital-relief",
   "metadata": {},
   "outputs": [
    {
     "data": {
      "text/plain": [
       "array([2., 3.])"
      ]
     },
     "execution_count": 71,
     "metadata": {},
     "output_type": "execute_result"
    }
   ],
   "source": [
    "A = np.array([[6, 1, 1],\n",
    "              [4, -2, 5],\n",
    "              [2, 8, 7]])\n",
    "rank = np.linalg.matrix_rank(A)\n",
    "det = np.linalg.det(A)\n",
    "inv = np.linalg.inv(A)\n",
    "power4 = np.linalg.matrix_power(A,4)\n",
    "\n",
    "B = np.array([[1,2],[3,4]])\n",
    "C = np.array([8,18])\n",
    "soltn = np.linalg.solve(B,C)\n",
    "soltn"
   ]
  },
  {
   "cell_type": "code",
   "execution_count": 80,
   "id": "eastern-picking",
   "metadata": {},
   "outputs": [
    {
     "name": "stderr",
     "output_type": "stream",
     "text": [
      "<ipython-input-80-3d653ab50621>:7: FutureWarning: `rcond` parameter will change to the default of machine precision times ``max(M, N)`` where M and N are the input matrix dimensions.\n",
      "To use the future default and silence this warning we advise to pass `rcond=None`, to keep using the old, explicitly pass `rcond=-1`.\n",
      "  w = np.linalg.lstsq(X.T, Y)[0]\n"
     ]
    },
    {
     "data": {
      "image/png": "[encoded data removed]",
      "text/plain": [
       "<Figure size 432x288 with 1 Axes>"
      ]
     },
     "metadata": {
      "needs_background": "light"
     },
     "output_type": "display_data"
    }
   ],
   "source": [
    "#ols\n",
    "val = np.arange(0,9)\n",
    "X = np.array([val, np.ones(9)])\n",
    "\n",
    "Y = [19, 20, 20.5, 21.5, 22, 23, 23, 25.5, 24]\n",
    "\n",
    "w = np.linalg.lstsq(X.T, Y)[0]\n",
    "\n",
    "#PLOTING\n",
    "line = w[0]*x + w[1] # regression line\n",
    "plt.plot(x, line, 'r-')\n",
    "plt.plot(x, y, 'o')\n",
    "plt.show()"
   ]
  },
  {
   "cell_type": "markdown",
   "id": "hungarian-disabled",
   "metadata": {},
   "source": [
    "## Sorting, Searching and Counting\n",
    "np.sort(array, axis = 0|1none), none returns a flattened arr"
   ]
  },
  {
   "cell_type": "code",
   "execution_count": 86,
   "id": "governing-motor",
   "metadata": {},
   "outputs": [
    {
     "data": {
      "text/plain": [
       "array([ 1, 10, 12, 12, 12, 15, 38, 46, 68, 69])"
      ]
     },
     "execution_count": 86,
     "metadata": {},
     "output_type": "execute_result"
    }
   ],
   "source": [
    "a1 = np.array([[10,15,12,68,46],[12,1,12,38,69]])\n",
    "a2 = np.sort(a1,axis = None)\n",
    "a2"
   ]
  },
  {
   "cell_type": "markdown",
   "id": "eastern-intent",
   "metadata": {},
   "source": [
    "## Random sampling in numpy | randint() function, random_sample() function\n",
    "np.random.randint(low,high,size,dtype)\n",
    "np.random.random_sample(size)"
   ]
  },
  {
   "cell_type": "code",
   "execution_count": 92,
   "id": "level-trout",
   "metadata": {},
   "outputs": [
    {
     "data": {
      "text/plain": [
       "array([[0.50461909, 0.30513241, 0.01641344],\n",
       "       [0.16193181, 0.57595307, 0.75589534]])"
      ]
     },
     "execution_count": 92,
     "metadata": {},
     "output_type": "execute_result"
    }
   ],
   "source": [
    "rr = np.random.randint(low=4, high=10, size =7)\n",
    "rr1 = np.random.randint(low=2, high= 15,size=(3,3))\n",
    "rr2 = np.random.randint(2,10,(2,3,4))\n",
    "rr3 = np.random.random_sample(size=(2,3))\n",
    "rr3"
   ]
  },
  {
   "cell_type": "code",
   "execution_count": null,
   "id": "bulgarian-substance",
   "metadata": {},
   "outputs": [],
   "source": []
  }
 ],
 "metadata": {
  "kernelspec": {
   "display_name": "Python 3",
   "language": "python",
   "name": "python3"
  },
  "language_info": {
   "codemirror_mode": {
    "name": "ipython",
    "version": 3
   },
   "file_extension": ".py",
   "mimetype": "text/x-python",
   "name": "python",
   "nbconvert_exporter": "python",
   "pygments_lexer": "ipython3",
   "version": "3.9.2"
  }
 },
 "nbformat": 4,
 "nbformat_minor": 5
}
