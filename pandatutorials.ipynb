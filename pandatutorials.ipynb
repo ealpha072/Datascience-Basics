{
 "cells": [
  {
   "cell_type": "markdown",
   "id": "intermediate-change",
   "metadata": {},
   "source": [
    "## Pandas basic tutorials"
   ]
  },
  {
   "cell_type": "code",
   "execution_count": 6,
   "id": "third-france",
   "metadata": {},
   "outputs": [],
   "source": [
    "#importing both numpy and pandas\n",
    "import pandas as pd\n",
    "import numpy as np"
   ]
  },
  {
   "cell_type": "markdown",
   "id": "informational-offset",
   "metadata": {},
   "source": [
    "### Pandas Series"
   ]
  },
  {
   "cell_type": "code",
   "execution_count": 7,
   "id": "rough-burden",
   "metadata": {},
   "outputs": [
    {
     "data": {
      "text/plain": [
       "0    43.434\n",
       "1    46.464\n",
       "2    21.678\n",
       "3    67.890\n",
       "4    12.307\n",
       "5    18.898\n",
       "6    11.987\n",
       "dtype: float64"
      ]
     },
     "execution_count": 7,
     "metadata": {},
     "output_type": "execute_result"
    }
   ],
   "source": [
    "#population of countries in millions\n",
    "g7_pop = pd.Series([43.434,46.464,21.678,67.890,12.307,18.898,11.987]) #creates a new pandas series\n",
    "g7_pop"
   ]
  },
  {
   "cell_type": "code",
   "execution_count": 11,
   "id": "official-award",
   "metadata": {},
   "outputs": [
    {
     "data": {
      "text/plain": [
       "array([43.434, 46.464, 21.678, 67.89 , 12.307, 18.898, 11.987])"
      ]
     },
     "execution_count": 11,
     "metadata": {},
     "output_type": "execute_result"
    }
   ],
   "source": [
    "g7_pop.name = \"G7 population in millions\" #specifies the name \n",
    "g7_pop.dtype\n",
    "g7_pop.values"
   ]
  },
  {
   "cell_type": "code",
   "execution_count": 12,
   "id": "impaired-azerbaijan",
   "metadata": {},
   "outputs": [
    {
     "data": {
      "text/plain": [
       "46.464"
      ]
     },
     "execution_count": 12,
     "metadata": {},
     "output_type": "execute_result"
    }
   ],
   "source": [
    "g7_pop[1]"
   ]
  },
  {
   "cell_type": "code",
   "execution_count": 13,
   "id": "fewer-biography",
   "metadata": {},
   "outputs": [
    {
     "data": {
      "text/plain": [
       "RangeIndex(start=0, stop=7, step=1)"
      ]
     },
     "execution_count": 13,
     "metadata": {},
     "output_type": "execute_result"
    }
   ],
   "source": [
    "g7_pop.index"
   ]
  },
  {
   "cell_type": "code",
   "execution_count": 14,
   "id": "republican-reaction",
   "metadata": {
    "scrolled": true
   },
   "outputs": [
    {
     "data": {
      "text/plain": [
       "Canada     43.434\n",
       "France     46.464\n",
       "Germany    21.678\n",
       "Italy      67.890\n",
       "Japan      12.307\n",
       "UK         18.898\n",
       "USA        11.987\n",
       "Name: G7 population in millions, dtype: float64"
      ]
     },
     "execution_count": 14,
     "metadata": {},
     "output_type": "execute_result"
    }
   ],
   "source": [
    "g7_pop.index =[\n",
    "    'Canada',\n",
    "    'France',\n",
    "    'Germany',\n",
    "    'Italy','Japan','UK','USA'\n",
    "] #changes the indices of the series elements\n",
    "g7_pop"
   ]
  },
  {
   "cell_type": "markdown",
   "id": "lyric-helmet",
   "metadata": {},
   "source": [
    "##### Creating a series from scratch"
   ]
  },
  {
   "cell_type": "code",
   "execution_count": 16,
   "id": "convenient-korean",
   "metadata": {},
   "outputs": [
    {
     "data": {
      "text/plain": [
       "Canada     34.444\n",
       "Germany    56.896\n",
       "Name: Sample G7 countries, dtype: float64"
      ]
     },
     "execution_count": 16,
     "metadata": {},
     "output_type": "execute_result"
    }
   ],
   "source": [
    "pd.Series({\n",
    "    'Canada':34.333,\n",
    "    'USA':24.456\n",
    "}, name=\"Sample of g7 countries\") #Creates a series \n",
    "\n",
    "pd.Series([34.444,56.896],index=['Canada','Germany'],name=\"Sample G7 countries\") #also creates a new series"
   ]
  },
  {
   "cell_type": "markdown",
   "id": "vital-sister",
   "metadata": {},
   "source": [
    "## Indexing "
   ]
  },
  {
   "cell_type": "code",
   "execution_count": 18,
   "id": "limited-mirror",
   "metadata": {},
   "outputs": [
    {
     "data": {
      "text/plain": [
       "43.434"
      ]
     },
     "execution_count": 18,
     "metadata": {},
     "output_type": "execute_result"
    }
   ],
   "source": [
    "g7_pop['Canada']"
   ]
  },
  {
   "cell_type": "code",
   "execution_count": 17,
   "id": "boolean-forth",
   "metadata": {},
   "outputs": [
    {
     "data": {
      "text/plain": [
       "Canada     43.434\n",
       "France     46.464\n",
       "Germany    21.678\n",
       "Italy      67.890\n",
       "Japan      12.307\n",
       "UK         18.898\n",
       "USA        11.987\n",
       "Name: G7 population in millions, dtype: float64"
      ]
     },
     "execution_count": 17,
     "metadata": {},
     "output_type": "execute_result"
    }
   ],
   "source": [
    "g7_pop"
   ]
  },
  {
   "cell_type": "code",
   "execution_count": 20,
   "id": "widespread-export",
   "metadata": {},
   "outputs": [
    {
     "data": {
      "text/plain": [
       "11.987"
      ]
     },
     "execution_count": 20,
     "metadata": {},
     "output_type": "execute_result"
    }
   ],
   "source": [
    "g7_pop.iloc[-1] #indexing with iloc"
   ]
  },
  {
   "cell_type": "code",
   "execution_count": 23,
   "id": "acceptable-linux",
   "metadata": {},
   "outputs": [
    {
     "data": {
      "text/plain": [
       "Canada    43.434\n",
       "France    46.464\n",
       "Italy     67.890\n",
       "USA       11.987\n",
       "Name: G7 population in millions, dtype: float64"
      ]
     },
     "execution_count": 23,
     "metadata": {},
     "output_type": "execute_result"
    }
   ],
   "source": [
    "#multiple selection\n",
    "g7_pop[['Italy','France']]\n",
    "g7_pop.iloc[[0,1,3,-1]]"
   ]
  },
  {
   "cell_type": "code",
   "execution_count": 24,
   "id": "documented-charlotte",
   "metadata": {},
   "outputs": [
    {
     "data": {
      "text/plain": [
       "Canada     43.434\n",
       "France     46.464\n",
       "Germany    21.678\n",
       "Italy      67.890\n",
       "Name: G7 population in millions, dtype: float64"
      ]
     },
     "execution_count": 24,
     "metadata": {},
     "output_type": "execute_result"
    }
   ],
   "source": [
    "#slicing \n",
    "g7_pop['Canada':'Italy']"
   ]
  },
  {
   "cell_type": "markdown",
   "id": "social-bicycle",
   "metadata": {},
   "source": [
    "## Conditional selection(Boolean arrays)"
   ]
  },
  {
   "cell_type": "code",
   "execution_count": 25,
   "id": "facial-service",
   "metadata": {},
   "outputs": [
    {
     "data": {
      "text/plain": [
       "Canada     43.434\n",
       "France     46.464\n",
       "Germany    21.678\n",
       "Italy      67.890\n",
       "Japan      12.307\n",
       "UK         18.898\n",
       "USA        11.987\n",
       "Name: G7 population in millions, dtype: float64"
      ]
     },
     "execution_count": 25,
     "metadata": {},
     "output_type": "execute_result"
    }
   ],
   "source": [
    "g7_pop"
   ]
  },
  {
   "cell_type": "code",
   "execution_count": 26,
   "id": "bigger-cement",
   "metadata": {},
   "outputs": [
    {
     "data": {
      "text/plain": [
       "Canada     43434000.0\n",
       "France     46464000.0\n",
       "Germany    21678000.0\n",
       "Italy      67890000.0\n",
       "Japan      12307000.0\n",
       "UK         18898000.0\n",
       "USA        11987000.0\n",
       "Name: G7 population in millions, dtype: float64"
      ]
     },
     "execution_count": 26,
     "metadata": {},
     "output_type": "execute_result"
    }
   ],
   "source": [
    "g7_pop*1_000_000"
   ]
  },
  {
   "cell_type": "code",
   "execution_count": 27,
   "id": "native-monitoring",
   "metadata": {},
   "outputs": [
    {
     "data": {
      "text/plain": [
       "Canada      True\n",
       "France      True\n",
       "Germany    False\n",
       "Italy       True\n",
       "Japan      False\n",
       "UK         False\n",
       "USA        False\n",
       "Name: G7 population in millions, dtype: bool"
      ]
     },
     "execution_count": 27,
     "metadata": {},
     "output_type": "execute_result"
    }
   ],
   "source": [
    "g7_pop > 30"
   ]
  },
  {
   "cell_type": "code",
   "execution_count": 30,
   "id": "reserved-correction",
   "metadata": {},
   "outputs": [
    {
     "data": {
      "text/plain": [
       "Germany    21.678\n",
       "Japan      12.307\n",
       "UK         18.898\n",
       "USA        11.987\n",
       "Name: G7 population in millions, dtype: float64"
      ]
     },
     "execution_count": 30,
     "metadata": {},
     "output_type": "execute_result"
    }
   ],
   "source": [
    "g7_pop[g7_pop <30]"
   ]
  },
  {
   "cell_type": "code",
   "execution_count": 31,
   "id": "narrow-boards",
   "metadata": {},
   "outputs": [
    {
     "data": {
      "text/plain": [
       "31.808285714285713"
      ]
     },
     "execution_count": 31,
     "metadata": {},
     "output_type": "execute_result"
    }
   ],
   "source": [
    "g7_pop.mean()"
   ]
  },
  {
   "cell_type": "code",
   "execution_count": 34,
   "id": "horizontal-weekend",
   "metadata": {},
   "outputs": [
    {
     "data": {
      "text/plain": [
       "Canada     3.771243\n",
       "France     3.838678\n",
       "Germany    3.076298\n",
       "Italy      4.217889\n",
       "Japan      2.510168\n",
       "UK         2.939056\n",
       "USA        2.483823\n",
       "Name: G7 population in millions, dtype: float64"
      ]
     },
     "execution_count": 34,
     "metadata": {},
     "output_type": "execute_result"
    }
   ],
   "source": [
    "np.log(g7_pop)"
   ]
  },
  {
   "cell_type": "code",
   "execution_count": 35,
   "id": "informal-establishment",
   "metadata": {},
   "outputs": [
    {
     "data": {
      "text/plain": [
       "Germany    21.678\n",
       "Name: G7 population in millions, dtype: float64"
      ]
     },
     "execution_count": 35,
     "metadata": {},
     "output_type": "execute_result"
    }
   ],
   "source": [
    "g7_pop[(g7_pop > 20) & (g7_pop <30)]"
   ]
  },
  {
   "cell_type": "markdown",
   "id": "continuous-volleyball",
   "metadata": {},
   "source": [
    "### Modifying Series"
   ]
  },
  {
   "cell_type": "code",
   "execution_count": 36,
   "id": "thrown-breeding",
   "metadata": {},
   "outputs": [
    {
     "data": {
      "text/plain": [
       "Canada     77.567\n",
       "France     46.464\n",
       "Germany    21.678\n",
       "Italy      67.890\n",
       "Japan      12.307\n",
       "UK         18.898\n",
       "USA        11.987\n",
       "Name: G7 population in millions, dtype: float64"
      ]
     },
     "execution_count": 36,
     "metadata": {},
     "output_type": "execute_result"
    }
   ],
   "source": [
    "g7_pop['Canada'] = 77.567\n",
    "g7_pop"
   ]
  },
  {
   "cell_type": "code",
   "execution_count": 37,
   "id": "accompanied-rubber",
   "metadata": {},
   "outputs": [
    {
     "data": {
      "text/plain": [
       "Canada      77.567\n",
       "France      46.464\n",
       "Germany     21.678\n",
       "Italy       67.890\n",
       "Japan       12.307\n",
       "UK          18.898\n",
       "USA        300.000\n",
       "Name: G7 population in millions, dtype: float64"
      ]
     },
     "execution_count": 37,
     "metadata": {},
     "output_type": "execute_result"
    }
   ],
   "source": [
    "g7_pop.iloc[-1] = 300\n",
    "g7_pop"
   ]
  },
  {
   "cell_type": "code",
   "execution_count": 38,
   "id": "fresh-liberia",
   "metadata": {},
   "outputs": [
    {
     "data": {
      "text/plain": [
       "Canada     77.567\n",
       "France     46.464\n",
       "Germany    21.678\n",
       "Italy      67.890\n",
       "Japan      12.307\n",
       "UK         18.898\n",
       "USA        47.789\n",
       "Name: G7 population in millions, dtype: float64"
      ]
     },
     "execution_count": 38,
     "metadata": {},
     "output_type": "execute_result"
    }
   ],
   "source": [
    "g7_pop[g7_pop > 200] =47.789\n",
    "g7_pop"
   ]
  },
  {
   "cell_type": "code",
   "execution_count": null,
   "id": "abstract-inventory",
   "metadata": {},
   "outputs": [],
   "source": []
  }
 ],
 "metadata": {
  "kernelspec": {
   "display_name": "Python 3",
   "language": "python",
   "name": "python3"
  },
  "language_info": {
   "codemirror_mode": {
    "name": "ipython",
    "version": 3
   },
   "file_extension": ".py",
   "mimetype": "text/x-python",
   "name": "python",
   "nbconvert_exporter": "python",
   "pygments_lexer": "ipython3",
   "version": "3.9.2"
  }
 },
 "nbformat": 4,
 "nbformat_minor": 5
}