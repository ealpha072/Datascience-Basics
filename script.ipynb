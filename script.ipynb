{
 "metadata": {
  "language_info": {
   "codemirror_mode": {
    "name": "ipython",
    "version": 3
   },
   "file_extension": ".py",
   "mimetype": "text/x-python",
   "name": "python",
   "nbconvert_exporter": "python",
   "pygments_lexer": "ipython3",
   "version": "3.8.5"
  },
  "orig_nbformat": 2,
  "kernelspec": {
   "name": "python385jvsc74a57bd0b3ba2566441a7c06988d0923437866b63cedc61552a5af99d1f4fb67d367b25f",
   "display_name": "Python 3.8.5 64-bit ('base': conda)"
  }
 },
 "nbformat": 4,
 "nbformat_minor": 2,
 "cells": [
  {
   "cell_type": "code",
   "execution_count": 1,
   "metadata": {},
   "outputs": [
    {
     "output_type": "stream",
     "name": "stdout",
     "text": [
      "The reason we Live\nNYT\n333\n"
     ]
    }
   ],
   "source": [
    "#class names should be descriptive. First letter of each word is capital\n",
    "class Book:\n",
    "    def __init__(self,title,author,publisher,numberOfPages):\n",
    "        self.title=title\n",
    "        self.author=author\n",
    "        self.publisher=publisher\n",
    "        self.numberOfPages=numberOfPages\n",
    "        #init() is executed everytime a class is instantiated, self must be the first parameter\n",
    "myBook=Book(\"The reason we Live\",\"Alpha\",\"NYT\",233)\n",
    "print(myBook.title)\n",
    "print(myBook.publisher)\n",
    "myBook.numberOfPages +=100\n",
    "print(myBook.numberOfPages)"
   ]
  },
  {
   "cell_type": "code",
   "execution_count": null,
   "metadata": {},
   "outputs": [],
   "source": []
  }
 ]
}